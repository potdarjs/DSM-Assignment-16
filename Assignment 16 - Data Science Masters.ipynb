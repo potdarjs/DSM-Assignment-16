{
 "cells": [
  {
   "cell_type": "markdown",
   "metadata": {},
   "source": [
    "# Assignment 16 - Data Science Masters"
   ]
  },
  {
   "cell_type": "code",
   "execution_count": 1,
   "metadata": {},
   "outputs": [],
   "source": [
    "# Problem Statement 1:\n",
    "# A test is conducted which is consisting of 20 MCQs (multiple choices questions) with\n",
    "# every MCQ having its four options out of which only one is correct. Determine the\n",
    "# probability that a person undertaking that test has answered exactly 5 questions wrong."
   ]
  },
  {
   "cell_type": "code",
   "execution_count": 7,
   "metadata": {},
   "outputs": [],
   "source": [
    "# Importing libraries\n",
    "\n",
    "# No. of Trails = No.of multiple choice questions\n",
    "n = 20\n",
    "# Number of wrong answers \n",
    "f = 5\n",
    "# Number of right answers 's'\n",
    "s = 15\n",
    "# probablity of getting one question wright\n",
    "Ps = 1/4\n",
    "# Probability of getting one question wrong  = 1 - Ps\n",
    "Pf = 1- Ps"
   ]
  },
  {
   "cell_type": "code",
   "execution_count": 8,
   "metadata": {},
   "outputs": [
    {
     "name": "stdout",
     "output_type": "stream",
     "text": [
      "The probability that a person undertaking the test answered exactly 5 questions wrong is : 0.0000034265\n"
     ]
    }
   ],
   "source": [
    "# Probability of getting 5 questions wrong = n! / ( s! ( n-s)!) * (Ps^s) * (Pf^f)\n",
    "import math\n",
    "\n",
    "_5_wrong = (math.factorial(20) * (Ps**15) * (Pf**5)) / (math.factorial(15)*math.factorial(5))\n",
    "\n",
    "print(\"The probability that a person undertaking the test answered exactly 5 questions wrong is : {:0.10f}\".format(_5_wrong))"
   ]
  },
  {
   "cell_type": "code",
   "execution_count": 9,
   "metadata": {},
   "outputs": [
    {
     "name": "stdout",
     "output_type": "stream",
     "text": [
      "The probability that a person undertaking the test answered exactly 5 questions wrong is : 0.0000034265\n"
     ]
    }
   ],
   "source": [
    "# PMF is the function that we can use to get the probability of exact values\n",
    "from scipy.stats import binom\n",
    "print(\"The probability that a person undertaking the test answered exactly 5 questions wrong is : {:0.10f}\".format(binom.pmf(s, n, Ps)))"
   ]
  },
  {
   "cell_type": "code",
   "execution_count": 10,
   "metadata": {},
   "outputs": [
    {
     "name": "stdout",
     "output_type": "stream",
     "text": [
      "The probability of getting a “D” exactly 5 times is : 0.0295312043\n"
     ]
    }
   ],
   "source": [
    "# Problem Statement 2\n",
    "\n",
    "# A die marked A to E is rolled 50 times. Find the probability of getting a “D” exactly 5 times\n",
    "# No. of Trails =  No. of times the die is rolled i.e. 50\n",
    "n=50\n",
    "# The die has to roll a “D” exactly 5 times\n",
    "s = 5\n",
    "# Probability of getting \"D\" when rolled once is =  1/5\n",
    "Ps = 1/5\n",
    "# Probability of not getting \"D\" =\n",
    "Pf = 1- Ps\n",
    "# Probability of getting D exactly 5 times = n! / ( s! ( n-s)!) * (Ps^s) * (Pf^f)\n",
    "\n",
    "D_5 = (math.factorial(50) * (Ps**5) * (Pf**45)) / (math.factorial(5)*math.factorial(45))\n",
    "\n",
    "print(\"The probability of getting a “D” exactly 5 times is : {:0.10f}\".format(D_5))\n"
   ]
  },
  {
   "cell_type": "code",
   "execution_count": 12,
   "metadata": {},
   "outputs": [
    {
     "name": "stdout",
     "output_type": "stream",
     "text": [
      "The probability of getting a “D” exactly 5 times is : 0.0295312043\n"
     ]
    }
   ],
   "source": [
    "# PMF is the function that we can use to get the probability of exact values\n",
    "print(\"The probability of getting a “D” exactly 5 times is : {:0.10f}\".format(binom.pmf(s,n,Ps)))"
   ]
  },
  {
   "cell_type": "code",
   "execution_count": null,
   "metadata": {},
   "outputs": [],
   "source": [
    "# Problem Statement 3:\n",
    "\n",
    "\"\"\" Two balls are drawn at random in succession without replacement from an urn containing 4 red balls and 6 black balls.\n",
    "Find the probabilities of all the possible outcomes. \"\"\""
   ]
  },
  {
   "cell_type": "code",
   "execution_count": 13,
   "metadata": {},
   "outputs": [],
   "source": [
    "# Initializing values\n",
    "r = 4 # No. of red balls\n",
    "b = 6 # No. of black balls\n",
    "t = r + b # Total number of balls"
   ]
  },
  {
   "cell_type": "code",
   "execution_count": 14,
   "metadata": {},
   "outputs": [
    {
     "name": "stdout",
     "output_type": "stream",
     "text": [
      "Probability of (red, red):  0.13333333333333333\n",
      "Probability of (red,black):  0.26666666666666666\n",
      "Probability of (black, red):  0.26666666666666666\n",
      "Probability of (black, black):  0.3333333333333333\n"
     ]
    }
   ],
   "source": [
    "# There are only four possible combinations when the two balls are drawn at random: \n",
    "# (red, red),(red,black),(black, red), (black, black)\n",
    "\n",
    "# Probability of (red, red)\n",
    "prob_rr = ((r/t)*((r-1)/(t-1))) \n",
    "print(\"Probability of (red, red): \", prob_rr)\n",
    "\n",
    "# Probability of (red, black)\n",
    "prob_rb = ((r/t)*((b)/(t-1))) \n",
    "print(\"Probability of (red,black): \", prob_rb)\n",
    "\n",
    "# Probability of (black, red)\n",
    "prob_br = ((b/t)*((r)/(t-1))) \n",
    "print(\"Probability of (black, red): \", prob_br)\n",
    "\n",
    "# Probability of (black, black)\n",
    "prob_bb =  ((b/t)*((b-1)/(t-1)))\n",
    "print(\"Probability of (black, black): \", prob_bb)"
   ]
  },
  {
   "cell_type": "code",
   "execution_count": 15,
   "metadata": {},
   "outputs": [
    {
     "data": {
      "text/plain": [
       "1.0"
      ]
     },
     "execution_count": 15,
     "metadata": {},
     "output_type": "execute_result"
    }
   ],
   "source": [
    "# The probabilty of all possible outcomes\n",
    "prob_all = prob_rr + prob_rb + prob_br + prob_bb\n",
    "prob_all"
   ]
  }
 ],
 "metadata": {
  "kernelspec": {
   "display_name": "Python 3",
   "language": "python",
   "name": "python3"
  },
  "language_info": {
   "codemirror_mode": {
    "name": "ipython",
    "version": 3
   },
   "file_extension": ".py",
   "mimetype": "text/x-python",
   "name": "python",
   "nbconvert_exporter": "python",
   "pygments_lexer": "ipython3",
   "version": "3.6.5"
  }
 },
 "nbformat": 4,
 "nbformat_minor": 2
}
